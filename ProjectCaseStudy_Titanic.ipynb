{
 "cells": [
  {
   "cell_type": "markdown",
   "id": "14d21513",
   "metadata": {},
   "source": [
    "# Project : Case Study Titanic"
   ]
  },
  {
   "cell_type": "markdown",
   "id": "ba40927a",
   "metadata": {},
   "source": [
    "# Link of Dataset: https://drive.google.com/file/d/13CIFaJcREtDUPFHQQNlvOuf0w5CBdKpS/view?usp=sharing"
   ]
  },
  {
   "cell_type": "markdown",
   "id": "bb114091",
   "metadata": {},
   "source": [
    "# Question 1 - Mean Age of Survivors"
   ]
  },
  {
   "cell_type": "markdown",
   "id": "9d74615a",
   "metadata": {},
   "source": [
    "## From the dataset, find the mean age of the people who did not survive."
   ]
  },
  {
   "cell_type": "markdown",
   "id": "2ff00c41",
   "metadata": {},
   "source": [
    "# Answer 1"
   ]
  },
  {
   "cell_type": "code",
   "execution_count": 1,
   "id": "8860ac2f",
   "metadata": {},
   "outputs": [
    {
     "name": "stdout",
     "output_type": "stream",
     "text": [
      "30.63\n"
     ]
    }
   ],
   "source": [
    "import pandas as pd\n",
    "import numpy as np\n",
    "from matplotlib import pyplot as plt\n",
    "\n",
    "titanic_data = pd.read_csv('C:\\\\Users\\\\lokes\\\\Downloads\\\\titanic.csv')\n",
    "\n",
    "survived_age = titanic_data[titanic_data[\"Survived\"] == 0][\"Age\"]\n",
    "\n",
    "print(round(survived_age.mean(), 2))"
   ]
  },
  {
   "cell_type": "markdown",
   "id": "d6087ae9",
   "metadata": {},
   "source": [
    "# Question 2 - Percentage of Survivors"
   ]
  },
  {
   "cell_type": "markdown",
   "id": "40b12558",
   "metadata": {},
   "source": [
    "## From the dataset, find the following:\n",
    "## 1. Percentage of Passengers Survived.\n",
    "## 2. Of the total survived passengers what percentage are the male passengers.\n",
    "## 3. Of the total survived passengers what percentage are the female passengers."
   ]
  },
  {
   "cell_type": "markdown",
   "id": "74a37ab8",
   "metadata": {},
   "source": [
    "# Answer 2"
   ]
  },
  {
   "cell_type": "code",
   "execution_count": 3,
   "id": "c05ef147",
   "metadata": {},
   "outputs": [
    {
     "name": "stdout",
     "output_type": "stream",
     "text": [
      "Percentage of people survived :  38.38\n",
      "Out of total Survived, Percenatge of Male :  31.87\n",
      "Out of total Survived, Percenatge of Female :  68.13\n"
     ]
    }
   ],
   "source": [
    "import numpy as np\n",
    "import pandas as pd\n",
    "import statistics as st\n",
    "a=pd.read_csv(\"C:\\\\Users\\\\lokes\\\\Downloads\\\\titanic.csv\")\n",
    "scount=0\n",
    "totalcount=0\n",
    "male=0\n",
    "female=0\n",
    "for i in a.index:\n",
    "    totalcount+=1\n",
    "    if a['Survived'][i]==1:\n",
    "        scount+=1\n",
    "        if a['Sex'][i]==1:\n",
    "            male+=1\n",
    "        else:\n",
    "            female+=1\n",
    "msp=(male/scount)*100\n",
    "msp=round(msp,2)\n",
    "fsp=(female/scount)*100\n",
    "fsp=round(fsp,2)\n",
    "sp=(scount/totalcount)*100\n",
    "sp=round(sp,2)\n",
    "print(\"Percentage of people survived : \",sp)\n",
    "print(\"Out of total Survived, Percenatge of Male : \",msp)\n",
    "print(\"Out of total Survived, Percenatge of Female : \",fsp)"
   ]
  },
  {
   "cell_type": "markdown",
   "id": "8856d723",
   "metadata": {},
   "source": [
    "# Question 3 - Highest Correlation"
   ]
  },
  {
   "cell_type": "markdown",
   "id": "14b837ff",
   "metadata": {},
   "source": [
    "## From the dataset, find the variable having the highest correlation with the Survival rate."
   ]
  },
  {
   "cell_type": "markdown",
   "id": "939363df",
   "metadata": {},
   "source": [
    "# Answer 3"
   ]
  },
  {
   "cell_type": "code",
   "execution_count": 28,
   "id": "dcf4c239",
   "metadata": {
    "scrolled": false
   },
   "outputs": [
    {
     "name": "stdout",
     "output_type": "stream",
     "text": [
      "             Survived\n",
      "Survived     1.000000\n",
      "Sex          0.543351\n",
      "Pclass       0.338481\n",
      "Fare         0.257307\n",
      "Parch        0.081629\n",
      "Age          0.077221\n",
      "SibSp        0.035322\n",
      "PassengerId  0.005007\n",
      "\n",
      "0.543351380657755\n",
      "Sex\n"
     ]
    }
   ],
   "source": [
    "import pandas as pd\n",
    "import numpy as np\n",
    "from matplotlib import pyplot as plt\n",
    "\n",
    "titanic_data = pd.read_csv('C:\\\\Users\\\\lokes\\\\Downloads\\\\titanic.csv')\n",
    "\n",
    "b=pd.DataFrame(abs(titanic_data.corr()['Survived']).sort_values(ascending = False))\n",
    "print(b)\n",
    "print()\n",
    "print(b.iloc[1,0])\n",
    "print(\"Sex\")"
   ]
  },
  {
   "cell_type": "markdown",
   "id": "bdfbc3d8",
   "metadata": {},
   "source": [
    "# Question 4 - Calculate IQR"
   ]
  },
  {
   "cell_type": "markdown",
   "id": "0a46c220",
   "metadata": {},
   "source": [
    "## From the dataset, Calculate the IQR for the Age column.\n",
    "## In the dataset, there are some null values present for the Age column. First, remove those and then calculate the IQR."
   ]
  },
  {
   "cell_type": "markdown",
   "id": "526e9a89",
   "metadata": {},
   "source": [
    "# Answer 4"
   ]
  },
  {
   "cell_type": "code",
   "execution_count": 34,
   "id": "3cf3caea",
   "metadata": {},
   "outputs": [
    {
     "name": "stdout",
     "output_type": "stream",
     "text": [
      "17.875\n"
     ]
    }
   ],
   "source": [
    "import pandas as pd\n",
    "import numpy as np\n",
    "from matplotlib import pyplot as plt\n",
    "\n",
    "titanic_data = pd.read_csv('C:\\\\Users\\\\lokes\\\\Downloads\\\\titanic.csv')\n",
    "\n",
    "Q1 = np.percentile(titanic_data[\"Age\"]._get_numeric_data().dropna(), 25)\n",
    "Q3 = np.percentile(titanic_data[\"Age\"]._get_numeric_data().dropna(), 75)\n",
    "\n",
    "# Interquaritle range (IQR)\n",
    "IQR = Q3 - Q1\n",
    "  \n",
    "print(IQR)"
   ]
  },
  {
   "cell_type": "markdown",
   "id": "b32819b4",
   "metadata": {},
   "source": [
    " # Question 5 - Analyze the Hypothesis"
   ]
  },
  {
   "cell_type": "markdown",
   "id": "7d437697",
   "metadata": {},
   "source": [
    "## From the dataset, find out if there is a significant difference in the mean sex between the passenger who survived and the passenger who did not survive?."
   ]
  },
  {
   "cell_type": "markdown",
   "id": "a1e21643",
   "metadata": {},
   "source": [
    "# Answer 5"
   ]
  },
  {
   "cell_type": "code",
   "execution_count": 35,
   "id": "00d19117",
   "metadata": {},
   "outputs": [
    {
     "name": "stdout",
     "output_type": "stream",
     "text": [
      "No\n"
     ]
    }
   ],
   "source": [
    "import pandas as pd\n",
    "import numpy as np\n",
    "from matplotlib import pyplot as plt\n",
    "import random\n",
    "\n",
    "titanic_data = pd.read_csv('C:\\\\Users\\\\lokes\\\\Downloads\\\\titanic.csv')\n",
    "\n",
    "male_mean = titanic_data[titanic_data['Sex'] == 1].Survived.mean()\n",
    "\n",
    "female_mean = titanic_data[titanic_data['Sex'] == 0].Survived.mean()\n",
    "\n",
    "avg_mean = female_mean - male_mean\n",
    "\n",
    "\n",
    "male = titanic_data[titanic_data['Sex'] == 1]\n",
    "female = titanic_data[titanic_data['Sex'] == 0]\n",
    "\n",
    "## empty list for storing mean sample\n",
    "m_mean_samples = []\n",
    "f_mean_samples = []\n",
    "\n",
    "for i in range(50):\n",
    "    m_mean_samples.append(np.mean(random.sample(list(male['Survived']),50,)))\n",
    "    f_mean_samples.append(np.mean(random.sample(list(female['Survived']),50,)))\n",
    "    \n",
    "\n",
    "# Print them out\n",
    "male_sample_mean = round(np.mean(m_mean_samples),2)\n",
    "male_sample_mean = round(np.mean(f_mean_samples),2)\n",
    "avg_sample_mean = round(np.mean(f_mean_samples) - np.mean(m_mean_samples),2)\n",
    "\n",
    "significant_diff = abs(avg_mean - avg_sample_mean)\n",
    "\n",
    "if significant_diff > 2:\n",
    "  print(\"Yes\")\n",
    "else:\n",
    "  print(\"No\")"
   ]
  },
  {
   "cell_type": "code",
   "execution_count": null,
   "id": "bccb9e1f",
   "metadata": {},
   "outputs": [],
   "source": []
  }
 ],
 "metadata": {
  "kernelspec": {
   "display_name": "Python 3 (ipykernel)",
   "language": "python",
   "name": "python3"
  },
  "language_info": {
   "codemirror_mode": {
    "name": "ipython",
    "version": 3
   },
   "file_extension": ".py",
   "mimetype": "text/x-python",
   "name": "python",
   "nbconvert_exporter": "python",
   "pygments_lexer": "ipython3",
   "version": "3.10.4"
  }
 },
 "nbformat": 4,
 "nbformat_minor": 5
}
